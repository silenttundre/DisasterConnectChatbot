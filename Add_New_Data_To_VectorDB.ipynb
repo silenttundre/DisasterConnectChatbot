{
 "cells": [
  {
   "cell_type": "code",
   "execution_count": 1,
   "id": "8687970d-4d2b-4aa5-86e0-18ac113e0cd2",
   "metadata": {},
   "outputs": [
    {
     "data": {
      "text/plain": [
       "True"
      ]
     },
     "execution_count": 1,
     "metadata": {},
     "output_type": "execute_result"
    }
   ],
   "source": [
    "import os\n",
    "import time\n",
    "from math import exp\n",
    "import numpy as np\n",
    "from IPython.display import display, HTML\n",
    "\n",
    "from dotenv import load_dotenv\n",
    "load_dotenv()"
   ]
  },
  {
   "cell_type": "code",
   "execution_count": 2,
   "id": "cb925f03-6f9f-452a-b42c-67c63a296fe7",
   "metadata": {},
   "outputs": [],
   "source": [
    "import openai\n",
    "from openai import OpenAI\n",
    "import json\n",
    "from pinecone.grpc import PineconeGRPC as Pinecone\n",
    "from pinecone import ServerlessSpec\n",
    "import time\n",
    "\n",
    "# Assign pinecone PINECONE_API_KEY\n",
    "pinecone_api_key = os.getenv(\"PINECONE_API_KEY\")\n",
    "#print(pinecone_api_key)\n",
    "\n",
    "client = OpenAI()\n",
    "pc = Pinecone(api_key=pinecone_api_key)"
   ]
  },
  {
   "cell_type": "code",
   "execution_count": 3,
   "id": "24a70ead-f018-4f65-a960-041224124479",
   "metadata": {},
   "outputs": [],
   "source": [
    "# Create your own vector database index name\n",
    "index_name = 'cstugpt-dc'\n",
    "\n",
    "embed_model = \"text-embedding-3-small\""
   ]
  },
  {
   "cell_type": "code",
   "execution_count": 4,
   "id": "526c647c-cc2b-4421-93f9-6b436cd5acfe",
   "metadata": {},
   "outputs": [],
   "source": [
    "namespace = 'dc'\n",
    "index = pc.Index(index_name)"
   ]
  },
  {
   "cell_type": "code",
   "execution_count": 5,
   "id": "0eaac05a-1544-49f4-98fa-d55fee7fb66f",
   "metadata": {},
   "outputs": [],
   "source": [
    "def pinecone_upsert_chunk(text, rec_count, index_name, namespace):\n",
    "\n",
    "    res = client.embeddings.create(input=text, model=embed_model)\n",
    "\n",
    "    embed = res.data[0].embedding\n",
    "    print(\"Embeds length:\", len(embed))\n",
    "    \n",
    "    count = rec_count\n",
    "    # Meta data preparation\n",
    "    metadata = {'text': text}\n",
    "    \n",
    "    index.upsert(vectors=[{\"id\": namespace + '_' + str(count), \"metadata\": metadata, \"values\": embed}], \n",
    "                 namespace=namespace)"
   ]
  },
  {
   "cell_type": "code",
   "execution_count": 6,
   "id": "b6bfd2cb-b949-4819-a705-0a144181f2f4",
   "metadata": {},
   "outputs": [
    {
     "data": {
      "text/plain": [
       "{'dimension': 1536,\n",
       " 'index_fullness': 0.0,\n",
       " 'namespaces': {'dc': {'vector_count': 47}},\n",
       " 'total_vector_count': 47}"
      ]
     },
     "execution_count": 6,
     "metadata": {},
     "output_type": "execute_result"
    }
   ],
   "source": [
    "vector_db = index.describe_index_stats()\n",
    "vector_db"
   ]
  },
  {
   "cell_type": "code",
   "execution_count": 7,
   "id": "5e9e47d0-f364-43a3-aa3b-4cbd072de76f",
   "metadata": {},
   "outputs": [
    {
     "data": {
      "text/plain": [
       "48"
      ]
     },
     "execution_count": 7,
     "metadata": {},
     "output_type": "execute_result"
    }
   ],
   "source": [
    "next_count = int(vector_db['total_vector_count'] + 1)\n",
    "next_count"
   ]
  },
  {
   "cell_type": "code",
   "execution_count": 8,
   "id": "6c761969-1de0-4a5c-b1ae-43300cda3ac1",
   "metadata": {},
   "outputs": [
    {
     "name": "stdout",
     "output_type": "stream",
     "text": [
      "Embeds length: 1536\n"
     ]
    }
   ],
   "source": [
    "# Upsert the chunk of info into database\n",
    "#text = \"Staff Reporters:\\nCole Euken\\nDon Zirbel\\nJennifer James\"\n",
    "#text = \"Leadership:\\nJohn Mills(CEO & Co-Founder)\\nDavid Merrit((CEO & Co-Founder)\\nBrian Harris(CPO)\\nNick Russell(VP of Operations)\"\n",
    "text = \"Van Lam is 90 year old.\"\n",
    "pinecone_upsert_chunk(text, next_count, index_name, namespace)"
   ]
  },
  {
   "cell_type": "code",
   "execution_count": null,
   "id": "96daf265-feea-4b18-ae0f-e59a0c75ab09",
   "metadata": {},
   "outputs": [],
   "source": []
  }
 ],
 "metadata": {
  "kernelspec": {
   "display_name": "Python 3 (ipykernel)",
   "language": "python",
   "name": "python3"
  },
  "language_info": {
   "codemirror_mode": {
    "name": "ipython",
    "version": 3
   },
   "file_extension": ".py",
   "mimetype": "text/x-python",
   "name": "python",
   "nbconvert_exporter": "python",
   "pygments_lexer": "ipython3",
   "version": "3.11.7"
  }
 },
 "nbformat": 4,
 "nbformat_minor": 5
}
